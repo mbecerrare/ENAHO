{
 "cells": [
  {
   "cell_type": "code",
   "execution_count": 25,
   "id": "4b9a9665",
   "metadata": {},
   "outputs": [
    {
     "name": "stdout",
     "output_type": "stream",
     "text": [
      "Ruta del proyecto agregada: D:\\Mateo\\ICSI\\ENAHO\\data\\2. processed\n"
     ]
    }
   ],
   "source": [
    "import sys\n",
    "import os\n",
    "from pathlib import Path\n",
    "\n",
    "# Agregar la raíz del proyecto al path de Python\n",
    "project_root = Path.cwd().parent  # Sube un nivel desde notebooks/\n",
    "sys.path.append(str(project_root))\n",
    "\n",
    "print(f\"Ruta del proyecto agregada: {project_root}\")"
   ]
  },
  {
   "cell_type": "code",
   "execution_count": 26,
   "id": "7f41ce04",
   "metadata": {},
   "outputs": [
    {
     "name": "stdout",
     "output_type": "stream",
     "text": [
      "Módulos importados exitosamente!\n"
     ]
    }
   ],
   "source": [
    "import pandas as pd\n",
    "import matplotlib.pyplot as plt\n",
    "import seaborn as sns\n",
    "from src.storage import StorageManager\n",
    "print(\"Módulos importados exitosamente!\")"
   ]
  },
  {
   "cell_type": "code",
   "execution_count": null,
   "id": "559c4ad5",
   "metadata": {},
   "outputs": [],
   "source": [
    "def cargar_datos_directo(año):\n",
    "    \"\"\"\n",
    "    Carga datos directamente desde archivos Parquet\n",
    "    \n",
    "    Args:\n",
    "        año (int): Año a cargar\n",
    "        \n",
    "    Returns:\n",
    "        DataFrame: Datos del año o None si hay error\n",
    "    \"\"\"\n",
    "    path = Path(f\"D:/Mateo/ICSI/ENAHO/data/2. processed/Merged/enaho_{año}.parquet\")\n",
    "    try:\n",
    "        df = pd.read_parquet(path)\n",
    "        print(f\"Datos {año} cargados: {df.shape}\")\n",
    "        # Mostrar info básica\n",
    "        print(\"\\nColumnas principales:\")\n",
    "        print(\"-------------------\")\n",
    "        for col in ['año', 'conglome', 'vivienda', 'hogar', 'codperso']:\n",
    "            if col in df.columns:\n",
    "                print(f\"✓ {col}\")\n",
    "            else:\n",
    "                print(f\"✗ {col}\")\n",
    "        return df\n",
    "    except Exception as e:\n",
    "        print(f\"Error cargando {año}: {e}\")\n",
    "        return None"
   ]
  },
  {
   "cell_type": "code",
   "execution_count": 28,
   "id": "0fc76b8b",
   "metadata": {},
   "outputs": [
    {
     "name": "stdout",
     "output_type": "stream",
     "text": [
      "\n",
      "Distribución por Sexo\n",
      "--------------------------------------------------\n",
      " Categoría         Freq   Percent        Cum\n",
      "       1.0 16,861,042.0 48.459999  48.459999\n",
      "       2.0 17,933,436.0 51.540001 100.000000\n",
      "--------------------------------------------------\n",
      "Total: 34,794,480\n"
     ]
    }
   ],
   "source": [
    "def tabla_expandida(df, var, factor_col, titulo=None):\n",
    "    \"\"\"\n",
    "    Crea una tabla de frecuencias usando factor de expansión.\n",
    "    \n",
    "    Args:\n",
    "        df: DataFrame con los datos\n",
    "        var: Variable a analizar (ej: 'p207')\n",
    "        factor_col: Columna del factor de expansión\n",
    "        titulo: Título opcional para la tabla\n",
    "    \"\"\"\n",
    "    # Calcular frecuencias expandidas\n",
    "    tabla = df.groupby(var)[factor_col].sum().reset_index()\n",
    "    \n",
    "    # Calcular porcentajes y acumulados\n",
    "    total = tabla[factor_col].sum()\n",
    "    tabla['Percent'] = (tabla[factor_col] / total * 100).round(2)\n",
    "    tabla['Cum'] = tabla['Percent'].cumsum().round(2)\n",
    "    \n",
    "    # Formatear números grandes\n",
    "    tabla[factor_col] = tabla[factor_col].apply(lambda x: f\"{x:,.1f}\")\n",
    "    \n",
    "    # Renombrar columnas\n",
    "    tabla.columns = ['Categoría', 'Freq', 'Percent', 'Cum']\n",
    "    \n",
    "    if titulo:\n",
    "        print(f\"\\n{titulo}\")\n",
    "        print(\"-\" * 50)\n",
    "    \n",
    "    # Imprimir tabla con formato\n",
    "    print(tabla.to_string(index=False))\n",
    "    print(\"-\" * 50)\n",
    "    print(f\"Total: {total:,.0f}\")\n",
    "\n",
    "# Ejemplo de uso:\n",
    "tabla_expandida(\n",
    "    df=df_2022, \n",
    "    var='p207', \n",
    "    factor_col='facpob07',  # Ajusta según el nombre de tu factor\n",
    "    titulo='Distribución por Sexo'\n",
    ")"
   ]
  },
  {
   "cell_type": "code",
   "execution_count": null,
   "id": "2bdf6f27",
   "metadata": {},
   "outputs": [],
   "source": []
  }
 ],
 "metadata": {
  "kernelspec": {
   "display_name": "base",
   "language": "python",
   "name": "python3"
  },
  "language_info": {
   "codemirror_mode": {
    "name": "ipython",
    "version": 3
   },
   "file_extension": ".py",
   "mimetype": "text/x-python",
   "name": "python",
   "nbconvert_exporter": "python",
   "pygments_lexer": "ipython3",
   "version": "3.13.5"
  }
 },
 "nbformat": 4,
 "nbformat_minor": 5
}
